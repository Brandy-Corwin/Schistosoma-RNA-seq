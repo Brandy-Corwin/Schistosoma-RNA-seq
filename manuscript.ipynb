{
 "cells": [
  {
   "attachments": {},
   "cell_type": "markdown",
   "metadata": {},
   "source": [
    "# Introduction"
   ]
  },
  {
   "attachments": {},
   "cell_type": "markdown",
   "metadata": {},
   "source": [
    "**These are the bullet points from the poster. Add more to make it flow nice and add more information.**\n",
    "\n",
    "\n",
    "Schistosoma mansoni are a parasitic worm that causes chronic schistosomiasis.\n",
    "\n",
    "S. mansoni trigger an immune response that leads to large tissue granulomas, causing fibrosis, organomegaly, and tissue damage.\n",
    "\n",
    "S. mansoni have a complex life cycle that is shown in figure 1.\n",
    "\n",
    "Some portion of the eggs don't go through the intestine, but instead can end up in other areas, particularly the liver. The eggs that make it to the intestines continue their life cycle, while the others are trapped and eventually die.\n",
    "\n",
    "Since most of our previous knowledge is based on studies looking at eggs trapped in the liver instead of the eggs that move through the intestines, we want to understand the differences, if there are any, between miracidia from the liver versus the intestines.\n",
    "\n",
    "A past study was done that determined that was a difference in gene expression between S. mansoni eggs isolated from the liver versus the intestines.\n",
    "\n",
    "Our goal is to see if the miracidia also exhibit a difference in gene expression between those stuck in the liver and those in the intestines."
   ]
  },
  {
   "attachments": {},
   "cell_type": "markdown",
   "metadata": {},
   "source": [
    "# Methods"
   ]
  },
  {
   "attachments": {},
   "cell_type": "markdown",
   "metadata": {},
   "source": [
    "### RNA extraction, library preparation, and sequencing"
   ]
  },
  {
   "attachments": {},
   "cell_type": "markdown",
   "metadata": {},
   "source": [
    "Will be written by Dr.Wheeler."
   ]
  },
  {
   "attachments": {},
   "cell_type": "markdown",
   "metadata": {},
   "source": [
    "### Read QC and alignment"
   ]
  },
  {
   "attachments": {},
   "cell_type": "markdown",
   "metadata": {},
   "source": [
    "**Add Software/tool version numbers and arguments for each tool listed below**  \n",
    "FastQC  \n",
    "Cutadapt  \n",
    "Star  \n",
    "Qualimap  \n",
    "MarkDuplicates  \n",
    "FeatureCounts  \n",
    "MultiQC"
   ]
  },
  {
   "attachments": {},
   "cell_type": "markdown",
   "metadata": {},
   "source": [
    "### Identification of differentially expressed genes and GO analysis"
   ]
  },
  {
   "attachments": {},
   "cell_type": "markdown",
   "metadata": {},
   "source": [
    "**Add Software/tool version numbers and arguments for each tool listed below**  \n",
    "Deseq2  \n",
    "gprofiler"
   ]
  },
  {
   "attachments": {},
   "cell_type": "markdown",
   "metadata": {},
   "source": [
    "# Results"
   ]
  },
  {
   "attachments": {},
   "cell_type": "markdown",
   "metadata": {},
   "source": [
    "### RNA sequencing, alignment, and sample clustering"
   ]
  },
  {
   "attachments": {},
   "cell_type": "markdown",
   "metadata": {},
   "source": []
  },
  {
   "attachments": {},
   "cell_type": "markdown",
   "metadata": {},
   "source": [
    "### Identification of differentially expressed genes"
   ]
  },
  {
   "cell_type": "markdown",
   "metadata": {},
   "source": []
  },
  {
   "attachments": {},
   "cell_type": "markdown",
   "metadata": {},
   "source": [
    "### Identification of pathways and/or GO annotations that are differentially expressed"
   ]
  },
  {
   "cell_type": "markdown",
   "metadata": {},
   "source": []
  },
  {
   "attachments": {},
   "cell_type": "markdown",
   "metadata": {},
   "source": [
    "# Discussion"
   ]
  },
  {
   "cell_type": "markdown",
   "metadata": {},
   "source": []
  },
  {
   "attachments": {},
   "cell_type": "markdown",
   "metadata": {},
   "source": [
    "# References"
   ]
  },
  {
   "attachments": {},
   "cell_type": "markdown",
   "metadata": {},
   "source": [
    "**Change format of referecnces listed below** \n",
    "   \n",
    "1. Peterková K, Konečný L, Macháček T et al. Winners vs. losers: Schistosoma mansoni intestinal and liver eggs exhibit striking differences in gene expression and immunogenicity. 2024.\n",
    "2. Hudak et al. Open OnDemand: A web-based client portal for HPC centers. Journal of Open Source Software. 3(25), 622. 2018.\n",
    "3. Saber S, Alomar S, Yahya G. Blocking prostanoid receptors switches on multiple immune responses and cascades of inflammatory signaling against larval stages in snail fever. Environmental Science and Pollution Research. 2022.\n",
    "4. Andrew S. FastQC: A Quality Control Tool for High Throughput Sequence Data. Babraham Bioinformatics. 2010.\n",
    "5. Martin M. Cutadapt removes adapter sequences from high-throughput sequencing reads. EMBnet Stichting.\n",
    "6. Dobin A, Davis C, Schlesinger F et al. STAR: ultrafast universal RNA-seq aligner. Bioinformatics. 2013.\n",
    "7. Okonechnikov K, Conesa A, García-Alcalde F. Qualimap 2: advanced multi-sample quality control for high-throughput sequencing data.\" Bioinformatics. 2015.\n",
    "8. Picard toolkit. Broad Institute. 2019.\n",
    "9. Liao Y, Smyth G, Shi W. featureCounts: an efficient general purpose program for assigning sequence reads to genomic features. Bioinformatics. 2014.\n",
    "10. Ewels P, Magnusson M, Lundin S et al. MultiQC: summarize analysis results for multiple tools and samples in a single report. Bioinformatics, 2016.\n",
    "11. Love MI, Love MI, Huber W et al. Moderated estimation of fold change and dispersion for RNA-seq data with DESeq2. BioMed Central."
   ]
  }
 ],
 "metadata": {
  "kernelspec": {
   "display_name": "R",
   "language": "R",
   "name": "ir"
  },
  "language_info": {
   "codemirror_mode": "r",
   "file_extension": ".r",
   "mimetype": "text/x-r-source",
   "name": "R",
   "pygments_lexer": "r",
   "version": "4.2.1"
  },
  "orig_nbformat": 4
 },
 "nbformat": 4,
 "nbformat_minor": 2
}
